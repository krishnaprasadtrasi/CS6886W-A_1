{
 "cells": [
  {
   "cell_type": "code",
   "execution_count": null,
   "id": "7d401591",
   "metadata": {},
   "outputs": [],
   "source": [
    "username = \"krishnaprasad-student\" # Replace with the actual username\n",
    "project_name = \"wandb_vgg_experiments_4\" # Replace with the actual project name\n",
    "run_id = \"hi5mjzjd\"  # Replace with the actual run ID    one can extract from Run path fatre selecting the best sweep : krishnaprasad-student/wandb_vgg_experiments_4/hi5mjzjd"
   ]
  },
  {
   "cell_type": "code",
   "execution_count": 7,
   "id": "ffc5fd4b",
   "metadata": {},
   "outputs": [],
   "source": [
    "def get_best_run(username, project_name):\n",
    "    import wandb\n",
    "    import json\n",
    "\n",
    "    api = wandb.Api()\n",
    "    project_path = f\"{username}/{project_name}\"\n",
    "    runs = api.runs(project_path)\n",
    "\n",
    "    best_run = max(\n",
    "        runs,\n",
    "        key=lambda r: json.loads(r.summary_metrics).get(\"val_acc\", float(\"-inf\"))\n",
    "    )\n",
    "\n",
    "    return get_run(username, project_name, best_run.id)\n",
    "\n",
    "def get_run(username, project_name, run_id):\n",
    "    import wandb\n",
    "\n",
    "    api = wandb.Api()\n",
    "    project_path = f\"{username}/{project_name}\"\n",
    "    run_path = f\"{project_path}/{run_id}\"\n",
    "    run = api.run(run_path)\n",
    "\n",
    "    return run\n",
    "\n",
    "def get_model_artifact(run):\n",
    "    artifacts = run.logged_artifacts()\n",
    "    model_artifact = None\n",
    "    for a in artifacts:\n",
    "        if a.type == \"model\":\n",
    "            model_artifact = a\n",
    "            break\n",
    "\n",
    "    if model_artifact is None:\n",
    "        raise RuntimeError(\"No model artifact found in the run\")\n",
    "\n",
    "    return model_artifact"
   ]
  },
  {
   "cell_type": "code",
   "execution_count": null,
   "id": "a8be8a09",
   "metadata": {},
   "outputs": [],
   "source": [
    "#Automatically selects best model based on validation accuracy\n",
    "run = get_best_run(username, project_name)\n",
    "\n",
    "#Comment above line and enable below line to manually download model based on sweep run id \n",
    "# run = get_run(username, project_name, run_id)\n",
    "\n",
    "model_artifact = get_model_artifact(run)"
   ]
  },
  {
   "cell_type": "code",
   "execution_count": null,
   "id": "42b72ba6",
   "metadata": {},
   "outputs": [
    {
     "name": "stdout",
     "output_type": "stream",
     "text": [
      "['6gwzktz6', 'e33bpqg9', 'u8hzc37u', 'k3r73vqg', '6pkoq9ht', 'f5dc6gso', 'tk5bg5o6', '9wahpq4o', 'madk8ohc', '7y7xrvl4', '5ngmp90b', '1scj9esp', 's4be0em3', 'fxeh984r', 'ur1eutat', 'sdr9hxrl', 'hi5mjzjd', 'so59jb8e', 'uboc79jv', 'a61bhl40', 'r3r1638o', 'd63fxnjt', '6ew9qmej', 'map53h14', '9unadrqx']\n"
     ]
    }
   ],
   "source": [
    "# import wandb\n",
    "# api = wandb.Api()\n",
    "# runs = api.runs(\"krishnaprasad-student/wandb_vgg_experiments_4\")\n",
    "# print([run.id for run in runs])\n"
   ]
  },
  {
   "cell_type": "code",
   "execution_count": 10,
   "id": "be64728a",
   "metadata": {},
   "outputs": [
    {
     "name": "stderr",
     "output_type": "stream",
     "text": [
      "\u001b[34m\u001b[1mwandb\u001b[0m:   1 of 1 files downloaded.  \n"
     ]
    },
    {
     "name": "stdout",
     "output_type": "stream",
     "text": [
      "Model downloaded to: c:\\Users\\DDA\\Downloads\\CS6886W-sweep\\CS6886W-sweep\\artifacts\\vgg-v16\\model.pth\n",
      "Run config: {'seed': 42, 'epochs': 50, 'dropout': 0.3, 'momentum': 0.5, 'optimizer': 'adam', 'activation': 'silu', 'batch_norm': True, 'batch_size': 32, 'num_classes': 10, 'weight_decay': 0.0001, 'learning_rate': 0.01, 'vgg_architecture': [64, 64, 'M', 128, 128, 'M']}\n",
      "Summary metrics: {'_runtime': 3516, '_step': 49, '_timestamp': 1760925560.6943765, '_wandb': {'runtime': 3516}, 'train_acc': 74.964, 'train_loss': 0.7183412119164653, 'val_acc': 85.44, 'val_loss': 0.4667031619543085}\n"
     ]
    }
   ],
   "source": [
    "import os\n",
    "import json\n",
    "\n",
    "artifact_dir = model_artifact.download()\n",
    "model_path = os.path.join(artifact_dir, \"model.pth\")\n",
    "print(f\"Model downloaded to: {model_path}\")\n",
    "print(\"Run config:\", run.config)\n",
    "print(\"Summary metrics:\", run.summary_metrics)"
   ]
  }
 ],
 "metadata": {
  "kernelspec": {
   "display_name": "Python 3",
   "language": "python",
   "name": "python3"
  },
  "language_info": {
   "codemirror_mode": {
    "name": "ipython",
    "version": 3
   },
   "file_extension": ".py",
   "mimetype": "text/x-python",
   "name": "python",
   "nbconvert_exporter": "python",
   "pygments_lexer": "ipython3",
   "version": "3.11.9"
  }
 },
 "nbformat": 4,
 "nbformat_minor": 5
}
